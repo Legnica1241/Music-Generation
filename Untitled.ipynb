{
 "cells": [
  {
   "cell_type": "code",
   "execution_count": 1,
   "metadata": {},
   "outputs": [],
   "source": [
    "import music21"
   ]
  },
  {
   "cell_type": "code",
   "execution_count": 2,
   "metadata": {},
   "outputs": [],
   "source": [
    "import tensorflow as tf"
   ]
  },
  {
   "cell_type": "code",
   "execution_count": null,
   "metadata": {},
   "outputs": [
    {
     "name": "stdout",
     "output_type": "stream",
     "text": [
      "\n",
      "______________________________________________________________________________ \n",
      "  \n",
      "Welcome the music21 Configuration Assistant. You will be guided through a \n",
      "number of questions to install and setup music21. Simply pressing return at a \n",
      "prompt will select a default, if available. \n",
      "\n",
      "You may run this configuration again at a later time by running \n",
      "music21/configure.py. \n",
      "  \n",
      "______________________________________________________________________________ \n",
      "  \n",
      "The BSD-licensed music21 software is distributed with a corpus of encoded \n",
      "compositions which are distributed with the permission of the encoders (and, \n",
      "where needed, the composers or arrangers) and where permitted under United \n",
      "States copyright law. Some encodings included in the corpus may not be used \n",
      "for commercial uses or have other restrictions: please see the licenses \n",
      "embedded in individual compositions or directories for more details. \n",
      "  \n",
      "In addition to the corpus distributed with music21, other pieces are not \n",
      "included in this distribution, but are indexed as links to other web sites \n",
      "where they can be downloaded (the \"virtual corpus\"). If you would like, \n",
      "music21 can help your computer automatically resolve these links and bring \n",
      "them to your hard drive for analysis. \n",
      "To the best of our knowledge, the music (if not the encodings) in the corpus \n",
      "are either out of copyright in the United States and/or are licensed for non- \n",
      "commercial use. These works, along with any works linked to in the virtual \n",
      "corpus, may or may not be free in your jurisdiction. If you believe this \n",
      "message to be in error regarding one or more works please contact Michael \n",
      "Cuthbert at cuthbert@mit.edu. \n",
      "  \n",
      "Would you like to: \n",
      "[1] Acknowledge these terms and allow music21 to aid in finding pieces in the \n",
      "corpus \n",
      "[2] Acknowledge these terms and block the virtual corpus \n",
      "[3] Do not agree to these terms and will not use music21 (agreeing to the \n",
      "terms of the corpus is mandatory for using the system). \n",
      "  \n",
      "Select a number from the preceding options (default is 1): \n",
      "No action taken. \n",
      "  \n",
      "______________________________________________________________________________ \n",
      "  \n",
      "Would you like to send a pre-formatted email to music21 regarding your \n",
      "installation? Installation reports help us make music21 work better for you: \n",
      "Enter Yes or No (default is Yes): "
     ]
    }
   ],
   "source": [
    "music21.configure.run()"
   ]
  },
  {
   "cell_type": "code",
   "execution_count": null,
   "metadata": {},
   "outputs": [],
   "source": []
  }
 ],
 "metadata": {
  "kernelspec": {
   "display_name": "ganskernel",
   "language": "python",
   "name": "ganskernel"
  },
  "language_info": {
   "codemirror_mode": {
    "name": "ipython",
    "version": 3
   },
   "file_extension": ".py",
   "mimetype": "text/x-python",
   "name": "python",
   "nbconvert_exporter": "python",
   "pygments_lexer": "ipython3",
   "version": "3.7.7"
  }
 },
 "nbformat": 4,
 "nbformat_minor": 4
}
