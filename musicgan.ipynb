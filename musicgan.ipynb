{
 "cells": [
  {
   "cell_type": "code",
   "execution_count": 6,
   "metadata": {},
   "outputs": [],
   "source": [
    "from keras.layers import Input,Conv2D,Flatten,Dense,Reshape,Lambda,Conv3D,Ac\n",
    "from keras.models import Model,Sequential\n",
    "from keras import backend as K\n",
    "from keras.optimizers import Adam,RMSprop"
   ]
  },
  {
   "cell_type": "code",
   "execution_count": 5,
   "metadata": {},
   "outputs": [],
   "source": [
    "import numpy as np\n",
    "import os\n",
    "import pickle\n",
    "from music21 import midi\n",
    "from music21 import note,stream,duration,tempo"
   ]
  },
  {
   "cell_type": "code",
   "execution_count": null,
   "metadata": {},
   "outputs": [],
   "source": [
    "class  MusicGenGan():\n",
    "    def __init__(self,\n",
    "                 input_dim\n",
    "                 latent_dim,\n",
    "                 critic_learning_rate,\n",
    "                 generator_learning_rate,\n",
    "                 optimizer,\n",
    "                 batch_size,\n",
    "                 n_tracks,\n",
    "                 n_bars,\n",
    "                 n_steps_per_bar,\n",
    "                 n_pitches    \n",
    "    ):\n",
    "        self.input_dim=input_dim\n",
    "        self.latent_dim=latent_dim\n",
    "        self.critic_learning_rate=critic_learning_rate\n",
    "        self.generator_learning_rate=generator_learning_rate\n",
    "        self.optimizer=optimizer\n",
    "        self.batch_size=batch_size\n",
    "        self.n_tracks=n_tracks\n",
    "        self.n_bars=n_bars\n",
    "        self.n_steps_per_bar=n_steps_per_bar\n",
    "        self.n_pitches=n_pitches\n",
    "        \n",
    "        \n",
    "        self.d_losses=[]\n",
    "        self.g_losses=[]\n",
    "        \n",
    "        self._build_critic()\n",
    "        self._build_generator()\n",
    "        self._build_adversarial()\n",
    "        \n",
    "        \n",
    "    def conv(self,x,f,k,s,a,p):\n",
    "        x=Conv3D(filters=f,\n",
    "                kernel_size=k,strides=s)(x)\n",
    "        if a=='relu':\n",
    "            x=Activation(a)(x)\n",
    "        elif a=='lrelu'\n",
    "            x=LeakyReLU(x)"
   ]
  }
 ],
 "metadata": {
  "kernelspec": {
   "display_name": "ganskernel",
   "language": "python",
   "name": "ganskernel"
  },
  "language_info": {
   "codemirror_mode": {
    "name": "ipython",
    "version": 3
   },
   "file_extension": ".py",
   "mimetype": "text/x-python",
   "name": "python",
   "nbconvert_exporter": "python",
   "pygments_lexer": "ipython3",
   "version": "3.7.7"
  }
 },
 "nbformat": 4,
 "nbformat_minor": 4
}
